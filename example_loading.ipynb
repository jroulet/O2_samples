{
 "cells": [
  {
   "cell_type": "code",
   "execution_count": null,
   "metadata": {},
   "outputs": [],
   "source": [
    "import numpy as np"
   ]
  },
  {
   "cell_type": "code",
   "execution_count": null,
   "metadata": {},
   "outputs": [],
   "source": [
    "ev_params = ['mchirp', 'eta', 's1z', 's2z', 'RA', 'DEC',\n",
    "             'psi', 'iota', 'vphi', 'tc', 'DL']"
   ]
  },
  {
   "cell_type": "code",
   "execution_count": null,
   "metadata": {},
   "outputs": [],
   "source": [
    "events = [\n",
    "    'GW151216',\n",
    "    \n",
    "    'GW170121', 'GW170202', 'GW170304', 'GW170425', 'GW170727', 'GW170403', \n",
    "    \n",
    "    'GW150914', 'GW151226', 'GW170104', 'GW170608', 'GW170729',\n",
    "    'GW170809', 'GW170814', 'GW170818', 'GW170823', 'GW151012'\n",
    "]"
   ]
  },
  {
   "cell_type": "code",
   "execution_count": null,
   "metadata": {},
   "outputs": [],
   "source": [
    "ev_samples_dic = {}\n",
    "for ev in events:\n",
    "    ev_samples_dic[ev] = dict(zip(ev_params, np.load(f'{ev}.npy').T))"
   ]
  },
  {
   "cell_type": "code",
   "execution_count": null,
   "metadata": {},
   "outputs": [],
   "source": [
    "print(ev_samples_dic)"
   ]
  }
 ],
 "metadata": {
  "kernelspec": {
   "display_name": "Python 3",
   "language": "python",
   "name": "python3"
  },
  "language_info": {
   "codemirror_mode": {
    "name": "ipython",
    "version": 3
   },
   "file_extension": ".py",
   "mimetype": "text/x-python",
   "name": "python",
   "nbconvert_exporter": "python",
   "pygments_lexer": "ipython3",
   "version": "3.6.5"
  }
 },
 "nbformat": 4,
 "nbformat_minor": 2
}
